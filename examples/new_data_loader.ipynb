{
 "cells": [
  {
   "cell_type": "markdown",
   "id": "a6132857",
   "metadata": {},
   "source": [
    "# Writing a new data loader\n",
    "\n",
    "One of the goals of this library is to make it easy to import/export data to and from different simulation codes. This example demonstrates how you would write a new data loader to read in data.\n",
    "DataLoaders must inhereit from the `ParticlePhaseSpace.DataLoaders._DataImportersBase` class. They must in addition provide two methods:\n",
    "\n",
    "1. `_check_input_data`: In this method you should check that whatever data the user has supplied is what your DataLoader is expecting. For example: is it a file? Is the extension correct? etc. Basically this is a pre-check for some basic error handling.\n",
    "2. `__import_data`: this is where the data actually gets imported. The fundamental goal of this method is to populate the data frame attribute stored at DataLoader.data such that it contains the [required columns](). If it does this succesfully, then it is guaranteed that the data can now be loaded into a PhaseSpace instance.\n",
    "\n",
    "For the purposes of demonstration, I am going to develop a new DataLoader which reads in some data I received from  a colleague. This data is ASCII encoded (i.e. text file) and contains the following columns:\n",
    "\n",
    "```\n",
    "x (mm)\ty (mm)\tz (mm)\tpx (MeV/c)\tpy (MeV/c)\tpz (MeV/c)\tE (MeV)\n",
    "```\n",
    "\n",
    "Note that this data already contains all the columns we need, and with the correct units, so reading it in should be pretty straight forward. Note also that this format does not include the type of particle. This means that users will have to specify particle type using the `particle_type=` input.\n",
    "The basic format of any new data loader looks like this:"
   ]
  },
  {
   "cell_type": "code",
   "execution_count": 1,
   "id": "be332430",
   "metadata": {},
   "outputs": [],
   "source": [
    "from pathlib import Path\n",
    "import sys\n",
    "sys.path.append('../')  # not required if library is installed\n",
    "from ParticlePhaseSpace.DataLoaders import _DataLoadersBase\n",
    "import numpy as np\n",
    "import ParticlePhaseSpace.__particle_config__ as particle_cfg\n",
    "\n",
    "class NewDataLoader(_DataLoadersBase):\n",
    "\n",
    "    def _import_data(self):\n",
    "        pass\n",
    "\n",
    "    def _check_input_data(self):\n",
    "        pass"
   ]
  },
  {
   "cell_type": "markdown",
   "id": "3e6ef426",
   "metadata": {},
   "source": [
    "Now, our job is to fill in these two methods. Note that both of these will be called automatically; in addition the data entered by the user will be available at `self._input_data`. Below is an example of the complete data loader:"
   ]
  },
  {
   "cell_type": "code",
   "execution_count": 2,
   "id": "3ee4da56",
   "metadata": {},
   "outputs": [],
   "source": [
    "class NewDataLoader(_DataLoadersBase):\n",
    "\n",
    "    def _import_data(self):\n",
    "        Data = np.loadtxt(self._input_data, skiprows=1)\n",
    "        self.data[self._columns['x']]  = Data[:, 0]\n",
    "        self.data[self._columns['y']]  = Data[:, 1]\n",
    "        self.data[self._columns['z']]  = Data[:, 2]\n",
    "        self.data[self._columns['px']]  = Data[:, 3]\n",
    "        self.data[self._columns['py']]  = Data[:, 4]\n",
    "        self.data[self._columns['pz']]  = Data[:, 5]\n",
    "        self.data[self._columns['particle type']]= particle_cfg.particle_properties[self._particle_type]['name']\n",
    "        # we also need to fill in weight, particle id, and time; since none of these are specified we just use all\n",
    "        # ones for weight, 1,2,3... for particle id, and all zeros for time:\n",
    "        self.data[self._columns['weight']] = np.ones(Data.shape[0])\n",
    "        self.data[self._columns['particle id']] = np.arange(len(self.data))\n",
    "\n",
    "        self.data[self._columns['time']]  = 0  # may want to replace with time feature if available?\n",
    "\n",
    "        # because we have momentum and energy, we can double check that our momentum to energy conversion is \n",
    "        # consisten with the values in the phase space:\n",
    "        E = Data[:, 6]\n",
    "        self._check_energy_consistency(Ek=E)\n",
    "\n",
    "    def _check_input_data(self):\n",
    "        # is the input a file?\n",
    "        if not Path(self._input_data).is_file():\n",
    "            raise FileNotFoundError(f'input data file {self._import_data()} does not exist')\n",
    "        # does it have the right extension?\n",
    "        if not Path(self._input_data).suffix == '.dat':\n",
    "            raise Exception('This data loaders requires a *.dat file')\n",
    "        # the header is on the first line; does it look correct?\n",
    "        with open(self._input_data) as f:\n",
    "            first_line = f.readline()\n",
    "            if not first_line == 'x (mm)\\ty (mm)\\tz (mm)\\tpx (MeV/c)\\tpy (MeV/c)\\tpz (MeV/c)\\tE (MeV)\\n':\n",
    "                raise Exception('file header does not look correct')\n",
    "        if not self._particle_type:\n",
    "            raise Exception('this data loader requires particle_type to be specified')"
   ]
  },
  {
   "cell_type": "markdown",
   "id": "7931ba0f",
   "metadata": {},
   "source": [
    "OK, now lets check out if this works:"
   ]
  },
  {
   "cell_type": "code",
   "execution_count": 3,
   "id": "5fe98fc2",
   "metadata": {},
   "outputs": [
    {
     "ename": "AttributeError",
     "evalue": "'PhaseSpace' object has no attribute 'plot_particle_positions'",
     "output_type": "error",
     "traceback": [
      "\u001b[0;31m---------------------------------------------------------------------------\u001b[0m",
      "\u001b[0;31mAttributeError\u001b[0m                            Traceback (most recent call last)",
      "Cell \u001b[0;32mIn[3], line 7\u001b[0m\n\u001b[1;32m      4\u001b[0m data \u001b[38;5;241m=\u001b[39m NewDataLoader(data_loc, particle_type\u001b[38;5;241m=\u001b[39m\u001b[38;5;124m'\u001b[39m\u001b[38;5;124melectrons\u001b[39m\u001b[38;5;124m'\u001b[39m)\n\u001b[1;32m      6\u001b[0m PS \u001b[38;5;241m=\u001b[39m PhaseSpace(data)\n\u001b[0;32m----> 7\u001b[0m \u001b[43mPS\u001b[49m\u001b[38;5;241;43m.\u001b[39;49m\u001b[43mplot_particle_positions\u001b[49m(weight_position_plot\u001b[38;5;241m=\u001b[39m\u001b[38;5;28;01mTrue\u001b[39;00m, beam_direction\u001b[38;5;241m=\u001b[39m\u001b[38;5;124m'\u001b[39m\u001b[38;5;124mz\u001b[39m\u001b[38;5;124m'\u001b[39m)\n",
      "\u001b[0;31mAttributeError\u001b[0m: 'PhaseSpace' object has no attribute 'plot_particle_positions'"
     ]
    }
   ],
   "source": [
    "from ParticlePhaseSpace._ParticlePhaseSpace import PhaseSpace\n",
    "\n",
    "data_loc  = Path(r'../tests/test_data/new_data_loader_demo.dat').absolute()\n",
    "data = NewDataLoader(data_loc, particle_type='electrons')\n",
    "\n",
    "PS = PhaseSpace(data)\n",
    "PS.plot_particle_positions_scatter_2D(weight_position_plot=True, beam_direction='z')"
   ]
  },
  {
   "cell_type": "code",
   "execution_count": null,
   "id": "60ebf9eb",
   "metadata": {},
   "outputs": [],
   "source": []
  }
 ],
 "metadata": {
  "kernelspec": {
   "display_name": "Python 3 (ipykernel)",
   "language": "python",
   "name": "python3"
  },
  "language_info": {
   "codemirror_mode": {
    "name": "ipython",
    "version": 3
   },
   "file_extension": ".py",
   "mimetype": "text/x-python",
   "name": "python",
   "nbconvert_exporter": "python",
   "pygments_lexer": "ipython3",
   "version": "3.10.6"
  }
 },
 "nbformat": 4,
 "nbformat_minor": 5
}
