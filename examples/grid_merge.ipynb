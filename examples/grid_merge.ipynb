{
 "cells": [
  {
   "cell_type": "markdown",
   "id": "64271e97",
   "metadata": {},
   "source": [
    "# Compress phase space via regrid/merge operations\n",
    "\n",
    "A simple mechanism to reduce the size of phase space data is to merge identical particles while adding their weights. In practice, this doesn't tend to be that useful, because even in a large data set, there are quite few truly identical particles. What there **are** however, are many particles which are close together.\n",
    "\n",
    "This tutorial demonstrates how to explot this fact by first regridding phase space data (which in effect 'nudges' particles which are close together in 7-D space into the same bin) followed by merging the phase space. This algorithm is based on work originally developed by Léo Esnault for the [p2sat](https://github.com/lesnat/p2sat) code."
   ]
  },
  {
   "cell_type": "code",
   "execution_count": 1,
   "id": "417ba109",
   "metadata": {
    "execution": {
     "iopub.execute_input": "2023-02-23T05:13:02.509711Z",
     "iopub.status.busy": "2023-02-23T05:13:02.509279Z",
     "iopub.status.idle": "2023-02-23T05:13:03.399053Z",
     "shell.execute_reply": "2023-02-23T05:13:03.398298Z"
    }
   },
   "outputs": [],
   "source": [
    "from pathlib import Path\n",
    "import sys\n",
    "sys.path.append('../')  # not necessary when the library is installed\n",
    "from ParticlePhaseSpace import DataLoaders\n",
    "from ParticlePhaseSpace import PhaseSpace\n",
    "import numpy as np\n",
    "from matplotlib import pyplot as plt\n",
    "\n",
    "test_data_loc = Path(r'../tests/test_data/coll_PhaseSpace_xAng_0.00_yAng_0.00_angular_error_0.0.phsp').absolute()\n",
    "ps_data = DataLoaders.Load_TopasData(test_data_loc)\n",
    "PS = PhaseSpace(ps_data)"
   ]
  },
  {
   "cell_type": "markdown",
   "id": "338b770a",
   "metadata": {},
   "source": [
    "For this data set, the vast majority of the data is close to x=0, y=0, so I'm going to discard some of the scattered particles outside this range. (We will come back to this discarded data later)."
   ]
  },
  {
   "cell_type": "code",
   "execution_count": 2,
   "id": "68664df6",
   "metadata": {
    "execution": {
     "iopub.execute_input": "2023-02-23T05:13:03.402680Z",
     "iopub.status.busy": "2023-02-23T05:13:03.402341Z",
     "iopub.status.idle": "2023-02-23T05:13:03.462419Z",
     "shell.execute_reply": "2023-02-23T05:13:03.461519Z"
    }
   },
   "outputs": [
    {
     "name": "stdout",
     "output_type": "stream",
     "text": [
      "data where boolean_index=True accounts for  89.6 % of the original data\n"
     ]
    }
   ],
   "source": [
    "keep_ind = np.logical_and(np.abs(PS.ps_data['x [mm]']) < 5, np.abs(PS.ps_data['y [mm]']) < 5)\n",
    "keep_ind2 = np.logical_and(np.abs(PS.ps_data['px [MeV/c]']) < 1, np.abs(PS.ps_data['py [MeV/c]']) < 1)\n",
    "keep_ind3 = np.logical_and(keep_ind2, keep_ind)\n",
    "PS, PS_discard = PS.filter_by_boolean_index(keep_ind3, split=True)"
   ]
  },
  {
   "cell_type": "markdown",
   "id": "c2bab447",
   "metadata": {},
   "source": [
    "Ok, so this operation removed about 10% of the input data.\n",
    "First, let's try merging any identical particles:"
   ]
  },
  {
   "cell_type": "code",
   "execution_count": null,
   "id": "0f9e9e14",
   "metadata": {
    "execution": {
     "iopub.execute_input": "2023-02-23T05:13:03.465841Z",
     "iopub.status.busy": "2023-02-23T05:13:03.465565Z",
     "iopub.status.idle": "2023-02-23T05:16:10.011814Z",
     "shell.execute_reply": "2023-02-23T05:16:10.011065Z"
    }
   },
   "outputs": [],
   "source": [
    "PS.merge(in_place=True)"
   ]
  },
  {
   "cell_type": "markdown",
   "id": "cc89e4e3",
   "metadata": {},
   "source": [
    "We can see that not only did this not remove many particles, it also took an quite a long time!\n",
    "\n",
    "Let's try the same thing after performing a re-grid operation:"
   ]
  },
  {
   "cell_type": "code",
   "execution_count": null,
   "id": "86556438",
   "metadata": {
    "execution": {
     "iopub.execute_input": "2023-02-23T05:16:10.014939Z",
     "iopub.status.busy": "2023-02-23T05:16:10.014673Z",
     "iopub.status.idle": "2023-02-23T05:16:16.431408Z",
     "shell.execute_reply": "2023-02-23T05:16:16.430878Z"
    }
   },
   "outputs": [],
   "source": [
    "new_PS = PS.regrid(n_bins=100)"
   ]
  },
  {
   "cell_type": "code",
   "execution_count": null,
   "id": "df7c2811",
   "metadata": {
    "execution": {
     "iopub.execute_input": "2023-02-23T05:16:16.433993Z",
     "iopub.status.busy": "2023-02-23T05:16:16.433783Z",
     "iopub.status.idle": "2023-02-23T05:17:26.942950Z",
     "shell.execute_reply": "2023-02-23T05:17:26.942027Z"
    }
   },
   "outputs": [],
   "source": [
    "new_PS.merge(in_place=True)"
   ]
  },
  {
   "cell_type": "markdown",
   "id": "a2c5aa43",
   "metadata": {},
   "source": [
    "What we have done here is regridded the default quantitiues ['x', 'y', 'z', 'px', 'py', 'pz', 'time'] into 100 bins. The values for each bin are calculated based on the range of the input data. The resultant phase space is roughly 33% the size of the original data. Now, we can add back in the data we extracted previously:"
   ]
  },
  {
   "cell_type": "code",
   "execution_count": null,
   "id": "992ea017",
   "metadata": {
    "execution": {
     "iopub.execute_input": "2023-02-23T05:17:26.946069Z",
     "iopub.status.busy": "2023-02-23T05:17:26.945769Z",
     "iopub.status.idle": "2023-02-23T05:17:27.029818Z",
     "shell.execute_reply": "2023-02-23T05:17:27.029211Z"
    }
   },
   "outputs": [],
   "source": [
    "new_PS = new_PS + PS_discard\n",
    "PS = PS + PS_discard"
   ]
  },
  {
   "cell_type": "markdown",
   "id": "f8bebe75",
   "metadata": {},
   "source": [
    "The obvious question is: how have these operations effected the data set, so let's check:\n",
    "\n",
    "## Particle Positions"
   ]
  },
  {
   "cell_type": "code",
   "execution_count": null,
   "id": "8629285e",
   "metadata": {
    "execution": {
     "iopub.execute_input": "2023-02-23T05:17:27.033196Z",
     "iopub.status.busy": "2023-02-23T05:17:27.033039Z",
     "iopub.status.idle": "2023-02-23T05:17:28.212578Z",
     "shell.execute_reply": "2023-02-23T05:17:28.211923Z"
    }
   },
   "outputs": [],
   "source": [
    "PS.plot_particle_positions_hist_2D(xlim=[-5,5], ylim=[-5,5])\n",
    "new_PS.plot_particle_positions_hist_2D(xlim=[-5,5], ylim=[-5,5])"
   ]
  },
  {
   "cell_type": "code",
   "execution_count": null,
   "id": "21853935",
   "metadata": {
    "execution": {
     "iopub.execute_input": "2023-02-23T05:17:28.216462Z",
     "iopub.status.busy": "2023-02-23T05:17:28.216093Z",
     "iopub.status.idle": "2023-02-23T05:17:30.956859Z",
     "shell.execute_reply": "2023-02-23T05:17:30.956242Z"
    }
   },
   "outputs": [],
   "source": [
    "PS.plot_position_hist_1D()\n",
    "new_PS.plot_position_hist_1D()"
   ]
  },
  {
   "cell_type": "markdown",
   "id": "a002a87a",
   "metadata": {},
   "source": [
    "## Energy"
   ]
  },
  {
   "cell_type": "code",
   "execution_count": null,
   "id": "28556d7b",
   "metadata": {
    "execution": {
     "iopub.execute_input": "2023-02-23T05:17:30.960023Z",
     "iopub.status.busy": "2023-02-23T05:17:30.959781Z",
     "iopub.status.idle": "2023-02-23T05:17:32.000397Z",
     "shell.execute_reply": "2023-02-23T05:17:31.999733Z"
    }
   },
   "outputs": [],
   "source": [
    "PS.plot_energy_hist_1D()\n",
    "new_PS.plot_energy_hist_1D()"
   ]
  },
  {
   "cell_type": "code",
   "execution_count": null,
   "id": "743d2a2c",
   "metadata": {
    "execution": {
     "iopub.execute_input": "2023-02-23T05:17:32.004164Z",
     "iopub.status.busy": "2023-02-23T05:17:32.003961Z",
     "iopub.status.idle": "2023-02-23T05:17:33.529451Z",
     "shell.execute_reply": "2023-02-23T05:17:33.528656Z"
    }
   },
   "outputs": [],
   "source": [
    "PS.print_energy_stats()\n",
    "new_PS.print_energy_stats()"
   ]
  },
  {
   "cell_type": "markdown",
   "id": "c7eca591",
   "metadata": {},
   "source": [
    "## Momentum"
   ]
  },
  {
   "cell_type": "code",
   "execution_count": null,
   "id": "22fe8d6b",
   "metadata": {
    "execution": {
     "iopub.execute_input": "2023-02-23T05:17:33.531960Z",
     "iopub.status.busy": "2023-02-23T05:17:33.531728Z",
     "iopub.status.idle": "2023-02-23T05:17:36.543696Z",
     "shell.execute_reply": "2023-02-23T05:17:36.543098Z"
    }
   },
   "outputs": [],
   "source": [
    "PS.plot_momentum_hist_1D()\n",
    "new_PS.plot_momentum_hist_1D()"
   ]
  },
  {
   "cell_type": "markdown",
   "id": "e4ab6b0a",
   "metadata": {},
   "source": [
    "## Notes/ Conclusions\n",
    "\n",
    "- If you want to not include some data in the regridding process, you need to do it before regridding as we did in this example. The regrid bins are always based on the min/max range of the input data, since not doing this could result in many particles being 'stacked' around the edge bins\n",
    "- Grid/Merge operations can be a highly effective approach to reducing the total size of a phase space without losing too much information - however, as always, the extent to which this is appropriate is very much application specific."
   ]
  },
  {
   "cell_type": "code",
   "execution_count": null,
   "id": "aa2e8080",
   "metadata": {},
   "outputs": [],
   "source": []
  }
 ],
 "metadata": {
  "kernelspec": {
   "display_name": "Python 3 (ipykernel)",
   "language": "python",
   "name": "python3"
  },
  "language_info": {
   "codemirror_mode": {
    "name": "ipython",
    "version": 3
   },
   "file_extension": ".py",
   "mimetype": "text/x-python",
   "name": "python",
   "nbconvert_exporter": "python",
   "pygments_lexer": "ipython3",
   "version": "3.9.5"
  }
 },
 "nbformat": 4,
 "nbformat_minor": 5
}
